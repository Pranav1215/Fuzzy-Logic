{
 "cells": [
  {
   "cell_type": "code",
   "execution_count": 16,
   "metadata": {},
   "outputs": [
    {
     "name": "stdout",
     "output_type": "stream",
     "text": [
      "File path: /Users/pranavvenkata/Downloads/table.csv\n",
      "Query given: everything evloution\n",
      "Best Match Found at index: 22079\n",
      "Cosine Similarity: 0.328104677708839\n",
      "title                                         floyd, a cat's story\n",
      "author                                                 peter stern\n",
      "category                                                      cats\n",
      "publish_year                               first published in 1982\n",
      "title_id         /works/ol4101380w?edition=ia%3aconfessingchris...\n",
      "author_id                           /authors/ol768552a/peter_stern\n",
      "cover_url         //covers.openlibrary.org/b/olid/ol3786132m-m.jpg\n",
      "book_stats       publish date 1982|publisher  harper & row|lang...\n",
      "descriptions     floyd, a cat who has everything, is not happy ...\n",
      "reading_stats       0 want to read|0 currently reading|0 have read\n",
      "Name: 22079, dtype: object\n",
      "Runtime: 28.107060432434082 seconds\n"
     ]
    }
   ],
   "source": [
    "import pandas as pd\n",
    "from sklearn.feature_extraction.text import TfidfVectorizer\n",
    "from sklearn.metrics.pairwise import cosine_similarity\n",
    "from nltk.tokenize import word_tokenize\n",
    "import time\n",
    "start_time = time.time()\n",
    "def load_data(file_path):\n",
    "    return pd.read_csv(file_path)\n",
    "def lowercase_all(df):\n",
    "    df = df.map(lambda x: x.lower() if isinstance(x, str) else x)\n",
    "    return df\n",
    "def tokenize_text(text):\n",
    "    return word_tokenize(text) if isinstance(text, str) else []\n",
    "def compute_cosine_similarity(query_vector, entry_vector):\n",
    "    return cosine_similarity(query_vector, entry_vector).flatten()[0]\n",
    "def calculate_cosine_distances(df, query):\n",
    "    vectorizer = TfidfVectorizer(tokenizer=tokenize_text, token_pattern=None)\n",
    "    corpus = df.apply(lambda x: ' '.join(x.dropna().astype(str)), axis=1)\n",
    "    corpus_vectorized = vectorizer.fit_transform(corpus)\n",
    "    query_vector = vectorizer.transform([query])\n",
    "    results = []\n",
    "    for index, row_vector in enumerate(corpus_vectorized):\n",
    "        distance = compute_cosine_similarity(query_vector, row_vector)\n",
    "        results.append((index, distance))\n",
    "    return results\n",
    "def find_best_match(distances):\n",
    "    best_match = max(distances, key=lambda x: x[1], default=None)\n",
    "    return best_match\n",
    "def process_data(file_path, query):\n",
    "    df = load_data(file_path)\n",
    "    df = lowercase_all(df)\n",
    "    distances = calculate_cosine_distances(df, query)\n",
    "    best_match = find_best_match(distances)\n",
    "    return best_match, df\n",
    "def main():\n",
    "    file_path = input(\"Enter the path to the CSV file: \")\n",
    "    user_query = input(\"Enter the query to match: \")\n",
    "    best_match, df = process_data(file_path, user_query)\n",
    "    if best_match is not None:\n",
    "        index, similarity = best_match\n",
    "        print(\"File path:\", file_path)\n",
    "        print(\"Query given:\", user_query)\n",
    "        print(\"Best Match Found at index:\", index)\n",
    "        print(\"Cosine Similarity:\", similarity)\n",
    "        print(df.iloc[index])\n",
    "    else:\n",
    "        print(\"No match found\")\n",
    "if __name__ == \"__main__\":\n",
    "    main()\n",
    "end_time = time.time()\n",
    "runtime = end_time - start_time\n",
    "print(f\"Runtime: {runtime} seconds\")\n"
   ]
  }
 ],
 "metadata": {
  "kernelspec": {
   "display_name": "Python 3 (ipykernel)",
   "language": "python",
   "name": "python3"
  },
  "language_info": {
   "codemirror_mode": {
    "name": "ipython",
    "version": 3
   },
   "file_extension": ".py",
   "mimetype": "text/x-python",
   "name": "python",
   "nbconvert_exporter": "python",
   "pygments_lexer": "ipython3",
   "version": "3.11.4"
  },
  "orig_nbformat": 4
 },
 "nbformat": 4,
 "nbformat_minor": 2
}
