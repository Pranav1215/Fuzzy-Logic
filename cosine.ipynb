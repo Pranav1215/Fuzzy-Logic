{
 "cells": [
  {
   "cell_type": "code",
   "execution_count": null,
   "metadata": {},
   "outputs": [],
   "source": [
    "import pandas as pd\n",
    "from sklearn.feature_extraction.text import TfidfVectorizer\n",
    "from sklearn.metrics.pairwise import cosine_similarity\n",
    "from nltk.tokenize import word_tokenize\n",
    "def load_data(file_path):\n",
    "    return pd.read_csv(file_path)\n",
    "def lowercase_all(df):\n",
    "    df = df.map(lambda x: x.lower() if isinstance(x, str) else x)\n",
    "    return df\n",
    "def tokenize_text(text):\n",
    "    return word_tokenize(text) if isinstance(text, str) else []\n",
    "def compute_cosine_similarity(query_vector, entry_vector):\n",
    "    return cosine_similarity(query_vector, entry_vector).flatten()[0]\n",
    "def calculate_cosine_distances(df, query):\n",
    "    vectorizer = TfidfVectorizer(tokenizer=tokenize_text, token_pattern=None)\n",
    "    corpus = df.apply(lambda x: ' '.join(x.dropna().astype(str)), axis=1)\n",
    "    corpus_vectorized = vectorizer.fit_transform(corpus)\n",
    "    query_vector = vectorizer.transform([query])\n",
    "    results = []\n",
    "    for index, row_vector in enumerate(corpus_vectorized):\n",
    "        distance = compute_cosine_similarity(query_vector, row_vector)\n",
    "        results.append((index, distance))\n",
    "    return results\n",
    "\n",
    "def find_best_match(distances):\n",
    "    best_match = max(distances, key=lambda x: x[1], default=None)\n",
    "    return best_match\n",
    "def process_data(file_path, query):\n",
    "    df = load_data(file_path)\n",
    "    df = lowercase_all(df)\n",
    "    distances = calculate_cosine_distances(df, query)\n",
    "    best_match = find_best_match(distances)\n",
    "    return best_match, df\n",
    "def main():\n",
    "    file_path = input(\"Enter the path to the CSV file: \")\n",
    "    user_query = input(\"Enter the query to match: \")\n",
    "    best_match, df = process_data(file_path, user_query)\n",
    "    if best_match is not None:\n",
    "        index, similarity = best_match\n",
    "        print(\"Query given:\", user_query)\n",
    "        print(\"Best Match Found at index:\", index)\n",
    "        print(\"Cosine Similarity:\", similarity)\n",
    "        print(df.iloc[index])\n",
    "    else:\n",
    "        print(\"No match found\")\n",
    "\n",
    "if __name__ == \"__main__\":\n",
    "    main()\n"
   ]
  }
 ],
 "metadata": {
  "kernelspec": {
   "display_name": "Python 3 (ipykernel)",
   "language": "python",
   "name": "python3"
  },
  "language_info": {
   "codemirror_mode": {
    "name": "ipython",
    "version": 3
   },
   "file_extension": ".py",
   "mimetype": "text/x-python",
   "name": "python",
   "nbconvert_exporter": "python",
   "pygments_lexer": "ipython3",
   "version": "3.11.4"
  },
  "orig_nbformat": 4
 },
 "nbformat": 4,
 "nbformat_minor": 2
}
